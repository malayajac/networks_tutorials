{
 "cells": [
  {
   "cell_type": "markdown",
   "metadata": {},
   "source": [
    "# Graph Generators."
   ]
  },
  {
   "cell_type": "code",
   "execution_count": null,
   "metadata": {},
   "outputs": [],
   "source": [
    "import networkx as nx\n",
    "import numpy as np\n",
    "import matplotlib.pyplot as plt\n",
    "import collections"
   ]
  },
  {
   "cell_type": "markdown",
   "metadata": {},
   "source": [
    "#### Complete graph:"
   ]
  },
  {
   "cell_type": "code",
   "execution_count": null,
   "metadata": {},
   "outputs": [],
   "source": [
    "G0 = nx.complete_graph(5)\n",
    "nx.draw_networkx(G0, with_labels=True, pos=nx.circular_layout(G0))\n",
    "plt.show()"
   ]
  },
  {
   "cell_type": "code",
   "execution_count": null,
   "metadata": {},
   "outputs": [],
   "source": [
    "nx.circular_layout(G0)"
   ]
  },
  {
   "cell_type": "code",
   "execution_count": null,
   "metadata": {},
   "outputs": [],
   "source": [
    "MyNewPos = {0: [0, 0], 1: [1, 0], 2: [1, 1], 3: [1, 2], 4: [2, 2]}\n",
    "# MyNewPos = {0: [0, 0], 1: [1, 0], 2: [1.2, 1], 3: [1, 2], 4: [2, 2]}"
   ]
  },
  {
   "cell_type": "code",
   "execution_count": null,
   "metadata": {},
   "outputs": [],
   "source": [
    "G0 = nx.complete_graph(5)\n",
    "nx.draw_networkx(G0, with_labels=True, pos=MyNewPos, node_color=\"red\")\n",
    "plt.show()"
   ]
  },
  {
   "cell_type": "code",
   "execution_count": null,
   "metadata": {},
   "outputs": [],
   "source": [
    "nx.draw_networkx(G0, with_labels=True, pos=nx.random_layout(G0))\n",
    "plt.show()"
   ]
  },
  {
   "cell_type": "markdown",
   "metadata": {},
   "source": [
    "#### Chain:"
   ]
  },
  {
   "cell_type": "code",
   "execution_count": null,
   "metadata": {},
   "outputs": [],
   "source": [
    "G1 = nx.path_graph(5)\n",
    "nx.draw_networkx(G1, with_labels=True, pos=nx.circular_layout(G1))\n",
    "plt.show()"
   ]
  },
  {
   "cell_type": "markdown",
   "metadata": {},
   "source": [
    "#### Complete bipartite graph:"
   ]
  },
  {
   "cell_type": "code",
   "execution_count": null,
   "metadata": {},
   "outputs": [],
   "source": [
    "G2 = nx.complete_bipartite_graph(5, 2)\n",
    "nx.draw_networkx(G2, with_labels=True, pos=nx.layout.circular_layout(G2))\n",
    "plt.show()"
   ]
  },
  {
   "cell_type": "markdown",
   "metadata": {},
   "source": [
    "---"
   ]
  },
  {
   "cell_type": "markdown",
   "metadata": {},
   "source": [
    "#### Erdos-Renyi random graph:"
   ]
  },
  {
   "cell_type": "code",
   "execution_count": null,
   "metadata": {},
   "outputs": [],
   "source": [
    "def MyPoisson(expec, x):\n",
    "    f = np.exp(-expec) * (expec**x) / np.math.factorial(x)\n",
    "    return (f)"
   ]
  },
  {
   "cell_type": "code",
   "execution_count": null,
   "metadata": {},
   "outputs": [],
   "source": [
    "nx.erdos_renyi_graph?"
   ]
  },
  {
   "cell_type": "code",
   "execution_count": null,
   "metadata": {},
   "outputs": [],
   "source": [
    "%%time\n",
    "G7 = nx.erdos_renyi_graph(1000, 0.0015)\n",
    "# nx.draw(G7, with_labels=False, node_size=10,\n",
    "#         pos=nx.layout.fruchterman_reingold_layout(G7))\n",
    "# plt.show()"
   ]
  },
  {
   "cell_type": "code",
   "execution_count": null,
   "metadata": {},
   "outputs": [],
   "source": [
    "N7 = G7.number_of_nodes()\n",
    "AvgDeg_7 = 2*G7.number_of_edges()/N7"
   ]
  },
  {
   "cell_type": "code",
   "execution_count": null,
   "metadata": {},
   "outputs": [],
   "source": [
    "deg_seq_7 = sorted([deg for node, deg in G7.degree()], reverse=True)\n",
    "deg_count_7 = collections.Counter(deg_seq_7)\n",
    "k_list_7, cnt_7 = zip(*deg_count_7.items())\n",
    "Pk_7 = [_/N7 for _ in cnt_7]"
   ]
  },
  {
   "cell_type": "code",
   "execution_count": null,
   "metadata": {},
   "outputs": [],
   "source": [
    "x_7 = range(0, max(k_list_7)+1)\n",
    "f_7 = [MyPoisson(AvgDeg_7, xi) for xi in x_7]"
   ]
  },
  {
   "cell_type": "code",
   "execution_count": null,
   "metadata": {},
   "outputs": [],
   "source": [
    "plt.plot(k_list_7, Pk_7, \"C0o\")\n",
    "plt.plot(x_7, f_7, \"k-\")\n",
    "\n",
    "plt.xlabel(\"k\")\n",
    "plt.ylabel(\"P(k)\")\n",
    "\n",
    "plt.xlim([-0.5, max(k_list_7)+0.5])\n",
    "\n",
    "plt.show()"
   ]
  },
  {
   "cell_type": "code",
   "execution_count": null,
   "metadata": {},
   "outputs": [],
   "source": [
    "%%time\n",
    "G8 = nx.erdos_renyi_graph(10000, 0.0015)\n",
    "# nx.draw(G7, with_labels=False, node_size=10,\n",
    "#         pos=nx.layout.fruchterman_reingold_layout(G7))\n",
    "# plt.show()"
   ]
  },
  {
   "cell_type": "code",
   "execution_count": null,
   "metadata": {},
   "outputs": [],
   "source": [
    "N8 = G8.number_of_nodes()\n",
    "AvgDeg_8 = 2*G8.number_of_edges()/N8"
   ]
  },
  {
   "cell_type": "code",
   "execution_count": null,
   "metadata": {},
   "outputs": [],
   "source": [
    "deg_seq_8 = sorted([deg for node, deg in G8.degree()], reverse=True)\n",
    "deg_count_8 = collections.Counter(deg_seq_8)\n",
    "k_list_8, cnt_8 = zip(*deg_count_8.items())\n",
    "Pk_8 = [_/N8 for _ in cnt_8]"
   ]
  },
  {
   "cell_type": "code",
   "execution_count": null,
   "metadata": {},
   "outputs": [],
   "source": [
    "x_8 = range(0, max(k_list_8)+1)\n",
    "f_8 = [MyPoisson(AvgDeg_8, xi) for xi in x_8]"
   ]
  },
  {
   "cell_type": "code",
   "execution_count": null,
   "metadata": {},
   "outputs": [],
   "source": [
    "plt.plot(k_list_8, Pk_8, \"C0o\")\n",
    "plt.plot(x_8, f_8, \"k-\")\n",
    "\n",
    "plt.xlabel(\"k\")\n",
    "plt.ylabel(\"P(k)\")\n",
    "\n",
    "plt.xlim([-0.5, max(k_list_8)+0.5])\n",
    "\n",
    "plt.show()"
   ]
  },
  {
   "cell_type": "markdown",
   "metadata": {},
   "source": [
    "---"
   ]
  },
  {
   "cell_type": "markdown",
   "metadata": {},
   "source": [
    "#### Watts-Strogatz small-world graph:"
   ]
  },
  {
   "cell_type": "code",
   "execution_count": null,
   "metadata": {},
   "outputs": [],
   "source": [
    "nx.watts_strogatz_graph?"
   ]
  },
  {
   "cell_type": "code",
   "execution_count": null,
   "metadata": {},
   "outputs": [],
   "source": [
    "%%time\n",
    "G5 = nx.watts_strogatz_graph(1000, 4, 0.2)\n",
    "nx.draw_networkx(G5, with_labels=False, node_size=10,\n",
    "        pos=nx.layout.circular_layout(G5))\n",
    "plt.show()"
   ]
  },
  {
   "cell_type": "code",
   "execution_count": null,
   "metadata": {},
   "outputs": [],
   "source": [
    "%%time\n",
    "nx.draw_networkx(G5, with_labels=False, node_size=10,\n",
    "        pos=nx.layout.fruchterman_reingold_layout(G5))\n",
    "plt.show()"
   ]
  },
  {
   "cell_type": "code",
   "execution_count": null,
   "metadata": {},
   "outputs": [],
   "source": [
    "N5 = G5.number_of_nodes()\n",
    "deg_seq_5 = sorted([deg for node, deg in G5.degree()], reverse=True)\n",
    "deg_count_5 = collections.Counter(deg_seq_5)\n",
    "k_list_5, cnt_5 = zip(*deg_count_5.items())\n",
    "Pk_5 = [_/N5 for _ in cnt_5]\n",
    "#---\n",
    "plt.plot(k_list_5, Pk_5, \"C0o\")\n",
    "\n",
    "plt.xlabel(\"k\")\n",
    "plt.ylabel(\"P(k)\")\n",
    "\n",
    "plt.xlim([-0.5, max(k_list_5)+0.5])\n",
    "\n",
    "plt.show()"
   ]
  },
  {
   "cell_type": "code",
   "execution_count": null,
   "metadata": {},
   "outputs": [],
   "source": [
    "%%time\n",
    "G6 = nx.watts_strogatz_graph(10000, 4, 0.2)\n",
    "# nx.draw_networkx(G6, with_labels=False, node_size=10,\n",
    "#         pos=nx.layout.fruchterman_reingold_layout(G6))\n",
    "# plt.show()\n",
    "# This will take 3 min."
   ]
  },
  {
   "cell_type": "markdown",
   "metadata": {},
   "source": [
    "Woah! Incomprehensible hairball! Maybe check out Gephi."
   ]
  },
  {
   "cell_type": "markdown",
   "metadata": {},
   "source": [
    "<img src=\"large_WS_network.png\">"
   ]
  },
  {
   "cell_type": "code",
   "execution_count": null,
   "metadata": {},
   "outputs": [],
   "source": [
    "N6 = G6.number_of_nodes()\n",
    "deg_seq_6 = sorted([deg for node, deg in G6.degree()], reverse=True)\n",
    "deg_count_6 = collections.Counter(deg_seq_6)\n",
    "k_list_6, cnt_6 = zip(*deg_count_6.items())\n",
    "Pk_6 = [_/N6 for _ in cnt_6]\n",
    "#---\n",
    "plt.plot(k_list_6, Pk_6, \"C0o\")\n",
    "\n",
    "plt.xlabel(\"k\")\n",
    "plt.ylabel(\"P(k)\")\n",
    "\n",
    "plt.xlim([-0.5, max(k_list_6)+0.5])\n",
    "\n",
    "plt.show()"
   ]
  },
  {
   "cell_type": "markdown",
   "metadata": {},
   "source": [
    "---"
   ]
  },
  {
   "cell_type": "markdown",
   "metadata": {},
   "source": [
    "#### Barabasi-Albert scale-free graph:"
   ]
  },
  {
   "cell_type": "code",
   "execution_count": null,
   "metadata": {},
   "outputs": [],
   "source": [
    "nx.barabasi_albert_graph?"
   ]
  },
  {
   "cell_type": "code",
   "execution_count": null,
   "metadata": {},
   "outputs": [],
   "source": [
    "%%time\n",
    "G3 = nx.barabasi_albert_graph(1000, 4)\n",
    "nx.draw_networkx(G3, with_labels=False, node_size=10,\n",
    "        pos=nx.layout.fruchterman_reingold_layout(G3))\n",
    "plt.show()"
   ]
  },
  {
   "cell_type": "code",
   "execution_count": null,
   "metadata": {},
   "outputs": [],
   "source": [
    "N3 = G3.number_of_nodes()\n",
    "deg_seq_3 = sorted([deg for node, deg in G3.degree()], reverse=True)\n",
    "deg_count_3 = collections.Counter(deg_seq_3)\n",
    "k_list_3, cnt_3 = zip(*deg_count_3.items())\n",
    "Pk_3 = [_/N3 for _ in cnt_3]"
   ]
  },
  {
   "cell_type": "code",
   "execution_count": null,
   "metadata": {},
   "outputs": [],
   "source": [
    "plt.plot(k_list_3, Pk_3, \"C0o\")\n",
    "\n",
    "plt.xlabel(\"k\")\n",
    "plt.ylabel(\"P(k)\")\n",
    "\n",
    "plt.xlim([-0.5, max(k_list_3)+0.5])\n",
    "\n",
    "plt.show()"
   ]
  },
  {
   "cell_type": "code",
   "execution_count": null,
   "metadata": {},
   "outputs": [],
   "source": [
    "plt.plot(k_list_3, Pk_3, \"C0o\")\n",
    "\n",
    "plt.xlabel(\"k\")\n",
    "plt.ylabel(\"P(k)\")\n",
    "\n",
    "# plt.xlim([-0.5, max(k_list_3)+0.5])\n",
    "plt.xscale('log')\n",
    "plt.yscale('log')\n",
    "\n",
    "plt.show()"
   ]
  },
  {
   "cell_type": "code",
   "execution_count": null,
   "metadata": {},
   "outputs": [],
   "source": [
    "%%time\n",
    "G4 = nx.barabasi_albert_graph(10000, 4)\n",
    "nx.draw_networkx(G4, with_labels=False, node_size=10,\n",
    "        pos=nx.layout.fruchterman_reingold_layout(G4))\n",
    "plt.show()\n",
    "# This will take approx 3 min on my system."
   ]
  },
  {
   "cell_type": "markdown",
   "metadata": {},
   "source": [
    "<img src=\"large_BA_network.png\">"
   ]
  },
  {
   "cell_type": "code",
   "execution_count": null,
   "metadata": {},
   "outputs": [],
   "source": [
    "N4 = G4.number_of_nodes()\n",
    "deg_seq_4 = sorted([deg for node, deg in G4.degree()], reverse=True)\n",
    "deg_count_4 = collections.Counter(deg_seq_4)\n",
    "k_list_4, cnt_4 = zip(*deg_count_4.items())\n",
    "Pk_4 = [_/N4 for _ in cnt_4]"
   ]
  },
  {
   "cell_type": "code",
   "execution_count": null,
   "metadata": {},
   "outputs": [],
   "source": [
    "plt.plot(k_list_4, Pk_4, \"C0o\")\n",
    "\n",
    "plt.xlabel(\"k\")\n",
    "plt.ylabel(\"P(k)\")\n",
    "\n",
    "# plt.xlim([-0.5, max(k_list_4)+0.5])\n",
    "plt.xscale('log')\n",
    "plt.yscale('log')\n",
    "\n",
    "plt.show()"
   ]
  },
  {
   "cell_type": "markdown",
   "metadata": {
    "collapsed": true
   },
   "source": [
    "---"
   ]
  },
  {
   "cell_type": "code",
   "execution_count": null,
   "metadata": {},
   "outputs": [],
   "source": []
  }
 ],
 "metadata": {
  "kernelspec": {
   "display_name": "Python 3",
   "language": "python",
   "name": "python3"
  },
  "language_info": {
   "codemirror_mode": {
    "name": "ipython",
    "version": 3
   },
   "file_extension": ".py",
   "mimetype": "text/x-python",
   "name": "python",
   "nbconvert_exporter": "python",
   "pygments_lexer": "ipython3",
   "version": "3.8.3"
  }
 },
 "nbformat": 4,
 "nbformat_minor": 2
}
