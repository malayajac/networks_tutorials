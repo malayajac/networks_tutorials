{
 "cells": [
  {
   "cell_type": "markdown",
   "metadata": {},
   "source": [
    "# Cliques"
   ]
  },
  {
   "cell_type": "markdown",
   "metadata": {},
   "source": [
    "https://networkx.org/documentation/stable/reference/algorithms/clique.html"
   ]
  },
  {
   "cell_type": "markdown",
   "metadata": {},
   "source": [
    "A clique is a complete subgraph."
   ]
  },
  {
   "cell_type": "markdown",
   "metadata": {},
   "source": [
    "Cliques and faces."
   ]
  },
  {
   "cell_type": "markdown",
   "metadata": {},
   "source": [
    "<table><tr>\n",
    "<td> <img src=\"clique1.png\" alt=\"1-clique\" style=\"width: 250px;\"/> </td>\n",
    "<td> <img src=\"clique2.png\" alt=\"2-clique\" style=\"width: 250px;\"/> </td>\n",
    "<td> <img src=\"clique3.png\" alt=\"3-clique\" style=\"width: 250px;\"/> </td>\n",
    "<td> <img src=\"clique4.png\" alt=\"4-clique\" style=\"width: 250px;\"/> </td>\n",
    "</tr></table>"
   ]
  },
  {
   "cell_type": "code",
   "execution_count": null,
   "metadata": {},
   "outputs": [],
   "source": [
    "import networkx as nx\n",
    "import numpy as np\n",
    "import matplotlib.pyplot as plt\n",
    "import collections"
   ]
  },
  {
   "cell_type": "code",
   "execution_count": null,
   "metadata": {},
   "outputs": [],
   "source": [
    "edge_list = [(0, 1), (0, 2), (0, 3), (0, 4),\n",
    "             (1, 2), (1, 3), (1, 4),\n",
    "             (2, 3), (2, 4),\n",
    "             (3, 4),\n",
    "             (4, 5), (4, 6),\n",
    "             (5, 6), (5, 7),\n",
    "             (6, 7), (6, 8),\n",
    "             (8, 9), (8, 10),\n",
    "             (9, 10)]\n",
    "#----------------------------------------\n",
    "node_list = [0, 1, 2, 3, 4, 5, 6, 7, 8, 9, 10]\n",
    "#----------------------------------------\n",
    "MyPos = {0: (0, 0),\n",
    "         1: (-0.1, 1),\n",
    "         2: (0.5, 1.5),\n",
    "         3: (1, 1),\n",
    "         4: (1, 0),\n",
    "         5: (2, 1),\n",
    "         6: (2.2, 0),\n",
    "         7: (3, 1),\n",
    "         8: (3, 0),\n",
    "         9: (4, 1),\n",
    "         10: (4, 0),\n",
    "         11: (5, 1),\n",
    "         12: (5, 0),\n",
    "         13: (1.4, -0.9),\n",
    "         14: (2.4, -0.9),\n",
    "         15: (3.4, -0.9)}\n",
    "#----------------------------------------\n",
    "G = nx.Graph()\n",
    "G.add_edges_from(edge_list)\n",
    "G.add_nodes_from(node_list)\n",
    "#----------------------------------------\n",
    "fig = plt.figure()\n",
    "ax = fig.add_axes([0, 0, 1, 1], aspect='equal')\n",
    "nx.draw_networkx(G, pos=MyPos, ax=ax, node_color=\"red\", alpha=1, with_labels=True, node_size=200, width=2)\n",
    "plt.show()"
   ]
  },
  {
   "cell_type": "code",
   "execution_count": null,
   "metadata": {},
   "outputs": [],
   "source": [
    "nx.enumerate_all_cliques(G)"
   ]
  },
  {
   "cell_type": "code",
   "execution_count": null,
   "metadata": {
    "scrolled": true
   },
   "outputs": [],
   "source": [
    "list(nx.enumerate_all_cliques(G))"
   ]
  },
  {
   "cell_type": "code",
   "execution_count": null,
   "metadata": {},
   "outputs": [],
   "source": [
    "list(nx.find_cliques(G))"
   ]
  },
  {
   "cell_type": "code",
   "execution_count": null,
   "metadata": {},
   "outputs": [],
   "source": [
    "edge_list = [(0, 1), (0, 2), (0, 3), (0, 4), (0, 5),\n",
    "             (1, 2), (1, 3), (1, 4),\n",
    "             (2, 3), (2, 4),\n",
    "             (3, 4), (3, 5),\n",
    "             (4, 5), (4, 6),\n",
    "             (5, 6), (5, 7),\n",
    "             (6, 7), (6, 8),\n",
    "             (8, 9), (8, 10), (8, 11),\n",
    "             (9, 10), (9, 11),\n",
    "             (10, 11), (10, 12),\n",
    "             (11, 12),\n",
    "             (13, 14)]\n",
    "#----------------------------------------\n",
    "node_list = [0, 1, 2, 3, 4, 5, 6, 7, 8, 9, 10, 11, 12, 13, 14, 15]      \n",
    "# #----------------------------------------\n",
    "MyPos = {0: (0, 0),\n",
    "         1: (-0.1, 1),\n",
    "         2: (0.5, 1.5),\n",
    "         3: (1, 1),\n",
    "         4: (1, 0),\n",
    "         5: (2, 1),\n",
    "         6: (2.2, 0),\n",
    "         7: (3, 1),\n",
    "         8: (3, 0),\n",
    "         9: (4, 1),\n",
    "         10: (5, 1),\n",
    "         11: (4, 0),\n",
    "         12: (5, 0),\n",
    "         13: (1.4, -0.9),\n",
    "         14: (2.4, -0.9),\n",
    "         15: (3.4, -0.9)}\n",
    "#----------------------------------------\n",
    "G = nx.Graph()\n",
    "G.add_edges_from(edge_list)\n",
    "G.add_nodes_from(node_list)\n",
    "#----------------------------------------\n",
    "fig = plt.figure()\n",
    "ax = fig.add_axes([0, 0, 1, 1], aspect='equal')\n",
    "nx.draw_networkx(G, pos=MyPos, ax=ax, node_color=\"red\", alpha=1, with_labels=True, node_size=200, width=2)\n",
    "plt.show()"
   ]
  },
  {
   "cell_type": "code",
   "execution_count": null,
   "metadata": {},
   "outputs": [],
   "source": [
    "nx.enumerate_all_cliques(G)"
   ]
  },
  {
   "cell_type": "code",
   "execution_count": null,
   "metadata": {
    "scrolled": true
   },
   "outputs": [],
   "source": [
    "list(nx.enumerate_all_cliques(G))"
   ]
  },
  {
   "cell_type": "code",
   "execution_count": null,
   "metadata": {},
   "outputs": [],
   "source": [
    "list(nx.find_cliques(G))"
   ]
  },
  {
   "cell_type": "code",
   "execution_count": null,
   "metadata": {},
   "outputs": [],
   "source": [
    "# q-dim of network:\n",
    "nx.graph_clique_number(G)"
   ]
  },
  {
   "cell_type": "code",
   "execution_count": null,
   "metadata": {},
   "outputs": [],
   "source": []
  }
 ],
 "metadata": {
  "kernelspec": {
   "display_name": "Python 3",
   "language": "python",
   "name": "python3"
  },
  "language_info": {
   "codemirror_mode": {
    "name": "ipython",
    "version": 3
   },
   "file_extension": ".py",
   "mimetype": "text/x-python",
   "name": "python",
   "nbconvert_exporter": "python",
   "pygments_lexer": "ipython3",
   "version": "3.8.3"
  }
 },
 "nbformat": 4,
 "nbformat_minor": 2
}
